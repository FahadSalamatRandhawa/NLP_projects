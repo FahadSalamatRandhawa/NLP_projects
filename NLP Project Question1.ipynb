{
  "cells": [
    {
      "cell_type": "markdown",
      "metadata": {
        "id": "QFtBr4GSjRa7"
      },
      "source": [
        "# NLP"
      ]
    },
    {
      "cell_type": "code",
      "execution_count": 18,
      "metadata": {
        "colab": {
          "base_uri": "https://localhost:8080/"
        },
        "id": "A-ZlizeyjTze",
        "outputId": "4dddadaa-5feb-4645-bb85-c767b47f9ea9"
      },
      "outputs": [
        {
          "name": "stdout",
          "output_type": "stream",
          "text": [
            "Defaulting to user installation because normal site-packages is not writeable\n",
            "Requirement already satisfied: SpeechRecognition in c:\\users\\lenovo\\appdata\\local\\packages\\pythonsoftwarefoundation.python.3.12_qbz5n2kfra8p0\\localcache\\local-packages\\python312\\site-packages (3.10.1)\n",
            "Requirement already satisfied: requests>=2.26.0 in c:\\users\\lenovo\\appdata\\local\\packages\\pythonsoftwarefoundation.python.3.12_qbz5n2kfra8p0\\localcache\\local-packages\\python312\\site-packages (from SpeechRecognition) (2.31.0)\n",
            "Requirement already satisfied: typing-extensions in c:\\users\\lenovo\\appdata\\local\\packages\\pythonsoftwarefoundation.python.3.12_qbz5n2kfra8p0\\localcache\\local-packages\\python312\\site-packages (from SpeechRecognition) (4.9.0)\n",
            "Requirement already satisfied: charset-normalizer<4,>=2 in c:\\users\\lenovo\\appdata\\local\\packages\\pythonsoftwarefoundation.python.3.12_qbz5n2kfra8p0\\localcache\\local-packages\\python312\\site-packages (from requests>=2.26.0->SpeechRecognition) (3.3.2)\n",
            "Requirement already satisfied: idna<4,>=2.5 in c:\\users\\lenovo\\appdata\\local\\packages\\pythonsoftwarefoundation.python.3.12_qbz5n2kfra8p0\\localcache\\local-packages\\python312\\site-packages (from requests>=2.26.0->SpeechRecognition) (3.6)\n",
            "Requirement already satisfied: urllib3<3,>=1.21.1 in c:\\users\\lenovo\\appdata\\local\\packages\\pythonsoftwarefoundation.python.3.12_qbz5n2kfra8p0\\localcache\\local-packages\\python312\\site-packages (from requests>=2.26.0->SpeechRecognition) (2.1.0)\n",
            "Requirement already satisfied: certifi>=2017.4.17 in c:\\users\\lenovo\\appdata\\local\\packages\\pythonsoftwarefoundation.python.3.12_qbz5n2kfra8p0\\localcache\\local-packages\\python312\\site-packages (from requests>=2.26.0->SpeechRecognition) (2023.11.17)\n",
            "Defaulting to user installation because normal site-packages is not writeable\n",
            "Requirement already satisfied: pydub in c:\\users\\lenovo\\appdata\\local\\packages\\pythonsoftwarefoundation.python.3.12_qbz5n2kfra8p0\\localcache\\local-packages\\python312\\site-packages (0.25.1)\n",
            "Defaulting to user installation because normal site-packages is not writeable\n",
            "Collecting ffmpeg-python\n",
            "  Downloading ffmpeg_python-0.2.0-py3-none-any.whl (25 kB)\n",
            "Collecting future (from ffmpeg-python)\n",
            "  Downloading future-0.18.3.tar.gz (840 kB)\n",
            "     ---------------------------------------- 0.0/840.9 kB ? eta -:--:--\n",
            "     -------- ----------------------------- 194.6/840.9 kB 3.0 MB/s eta 0:00:01\n",
            "     ------------- ------------------------ 307.2/840.9 kB 1.7 MB/s eta 0:00:01\n",
            "     ------------------------ ------------- 553.0/840.9 kB 1.5 MB/s eta 0:00:01\n",
            "     --------------------------- ---------- 614.4/840.9 kB 1.4 MB/s eta 0:00:01\n",
            "     -------------------------------------  839.7/840.9 kB 1.5 MB/s eta 0:00:01\n",
            "     -------------------------------------- 840.9/840.9 kB 1.4 MB/s eta 0:00:00\n",
            "  Preparing metadata (setup.py): started\n",
            "  Preparing metadata (setup.py): finished with status 'done'\n",
            "Building wheels for collected packages: future\n",
            "  Building wheel for future (setup.py): started\n",
            "  Building wheel for future (setup.py): finished with status 'done'\n",
            "  Created wheel for future: filename=future-0.18.3-py3-none-any.whl size=492054 sha256=319b6b7276c74ce86eb54d4917181f203a64624e5000d7ab81d77996d043c386\n",
            "  Stored in directory: c:\\users\\lenovo\\appdata\\local\\pip\\cache\\wheels\\f1\\54\\27\\4e5cb4bd05116c097877e85a206a2e08d301aaa9b7af719909\n",
            "Successfully built future\n",
            "Installing collected packages: future, ffmpeg-python\n",
            "Successfully installed ffmpeg-python-0.2.0 future-0.18.3\n",
            "Defaulting to user installation because normal site-packages is not writeable\n",
            "Requirement already satisfied: mypy in c:\\users\\lenovo\\appdata\\local\\packages\\pythonsoftwarefoundation.python.3.12_qbz5n2kfra8p0\\localcache\\local-packages\\python312\\site-packages (1.8.0)\n",
            "Requirement already satisfied: typing-extensions>=4.1.0 in c:\\users\\lenovo\\appdata\\local\\packages\\pythonsoftwarefoundation.python.3.12_qbz5n2kfra8p0\\localcache\\local-packages\\python312\\site-packages (from mypy) (4.9.0)\n",
            "Requirement already satisfied: mypy-extensions>=1.0.0 in c:\\users\\lenovo\\appdata\\local\\packages\\pythonsoftwarefoundation.python.3.12_qbz5n2kfra8p0\\localcache\\local-packages\\python312\\site-packages (from mypy) (1.0.0)\n"
          ]
        }
      ],
      "source": [
        "!pip install SpeechRecognition\n",
        "!pip install pydub\n",
        "!pip install mypy\n",
        "\n"
      ]
    },
    {
      "cell_type": "markdown",
      "metadata": {},
      "source": [
        "uncomment For colabs"
      ]
    },
    {
      "cell_type": "code",
      "execution_count": null,
      "metadata": {
        "colab": {
          "base_uri": "https://localhost:8080/"
        },
        "id": "qqedWg0GwN6x",
        "outputId": "6c7ec65f-6cd4-43cd-bc09-31fc9f06db58"
      },
      "outputs": [
        {
          "name": "stdout",
          "output_type": "stream",
          "text": [
            "Drive already mounted at /content/drive; to attempt to forcibly remount, call drive.mount(\"/content/drive\", force_remount=True).\n"
          ]
        }
      ],
      "source": []
    },
    {
      "cell_type": "markdown",
      "metadata": {
        "id": "dW2LvCTr1vFT"
      },
      "source": [
        "## From recorded file"
      ]
    },
    {
      "cell_type": "code",
      "execution_count": 34,
      "metadata": {
        "colab": {
          "base_uri": "https://localhost:8080/"
        },
        "id": "GvOfTjaEjfVl",
        "outputId": "0718e830-9384-4c23-a2d6-be16a6bacd3e"
      },
      "outputs": [
        {
          "name": "stdout",
          "output_type": "stream",
          "text": [
            "In local enviornment\n",
            "Output: this is a meri college in the voice just sample\n"
          ]
        }
      ],
      "source": [
        "import speech_recognition as sr\n",
        "from pydub import AudioSegment\n",
        "import os\n",
        "from IPython import get_ipython\n",
        "\n",
        "if 'google.colab' in str(get_ipython()):\n",
        "    drive.mount('/content/drive')\n",
        "    from google.colab import drive\n",
        "    !apt install libasound2-dev portaudio19-dev libportaudio2 libportaudiocpp0 ffmpeg\n",
        "\n",
        "    audio_file:str = \"/content/drive/MyDrive/NLP/Project/\" + file_name + \".m4a\"\n",
        "    wav_file:str = \"/content/drive/MyDrive/NLP/Project/\" + file_name + \".wav\"\n",
        "    print(\"In colabs enviornment\")\n",
        "else:\n",
        "    audio_file=\"D:/University/Semester 8/NLP/Project/\"+file_name + \".m4a\"\n",
        "    wav_file=\"D:/University/Semester 8/NLP/Project/\"+file_name + \".wav\"\n",
        "    print(\"In local enviornment\")\n",
        "\n",
        "\n",
        "# Create a recognizer object\n",
        "recognizer:sr.Recognizer = sr.Recognizer()\n",
        "\n",
        "# Prompt the user to enter the file name\n",
        "file_name:str = \"audio_sample\"\n",
        "\n",
        "# Construct the full file path\n",
        "audio:AudioSegment  = AudioSegment.from_file(audio_file, format=\"m4a\")\n",
        "\n",
        "# Export the audio as WAV\n",
        "audio.export(wav_file, format=\"wav\")\n",
        "\n",
        "# Load the WAV audio file\n",
        "with sr.AudioFile(wav_file) as source:\n",
        "    audio = recognizer.record(source)\n",
        "\n",
        "# Perform speech recognition\n",
        "query:str = recognizer.recognize_google(audio)\n",
        "print(\"Output:\", query)\n",
        "\n"
      ]
    },
    {
      "cell_type": "markdown",
      "metadata": {
        "id": "SCrwXJVf0PzU"
      },
      "source": [
        "# Microphone Input"
      ]
    },
    {
      "cell_type": "markdown",
      "metadata": {
        "id": "S5xO-hVr2U6m"
      },
      "source": [
        "### dependencies"
      ]
    },
    {
      "cell_type": "code",
      "execution_count": 30,
      "metadata": {
        "colab": {
          "base_uri": "https://localhost:8080/"
        },
        "id": "vO-KUfpM1Brf",
        "outputId": "add6b58d-af24-457f-9206-25fdce380503"
      },
      "outputs": [
        {
          "name": "stdout",
          "output_type": "stream",
          "text": [
            "Defaulting to user installation because normal site-packages is not writeable\n",
            "Requirement already satisfied: pyaudio in c:\\users\\lenovo\\appdata\\local\\packages\\pythonsoftwarefoundation.python.3.12_qbz5n2kfra8p0\\localcache\\local-packages\\python312\\site-packages (0.2.14)\n"
          ]
        }
      ],
      "source": [
        "!pip install pyaudio\n"
      ]
    },
    {
      "cell_type": "markdown",
      "metadata": {
        "id": "L0CAIesC2gWi"
      },
      "source": [
        "input"
      ]
    },
    {
      "cell_type": "code",
      "execution_count": 32,
      "metadata": {
        "colab": {
          "base_uri": "https://localhost:8080/",
          "height": 390
        },
        "id": "4b_1Cy8l0Pa1",
        "outputId": "2e01c677-1b47-4014-90e5-419d8baabbd1"
      },
      "outputs": [
        {
          "name": "stdout",
          "output_type": "stream",
          "text": [
            "Speak:\n"
          ]
        },
        {
          "ename": "KeyboardInterrupt",
          "evalue": "",
          "output_type": "error",
          "traceback": [
            "\u001b[1;31m---------------------------------------------------------------------------\u001b[0m",
            "\u001b[1;31mKeyboardInterrupt\u001b[0m                         Traceback (most recent call last)",
            "Cell \u001b[1;32mIn[32], line 7\u001b[0m\n\u001b[0;32m      5\u001b[0m \u001b[38;5;28;01mwith\u001b[39;00m sr\u001b[38;5;241m.\u001b[39mMicrophone() \u001b[38;5;28;01mas\u001b[39;00m source:\n\u001b[0;32m      6\u001b[0m     \u001b[38;5;28mprint\u001b[39m(\u001b[38;5;124m\"\u001b[39m\u001b[38;5;124mSpeak:\u001b[39m\u001b[38;5;124m\"\u001b[39m)\n\u001b[1;32m----> 7\u001b[0m     audio \u001b[38;5;241m=\u001b[39m \u001b[43mr\u001b[49m\u001b[38;5;241;43m.\u001b[39;49m\u001b[43mlisten\u001b[49m\u001b[43m(\u001b[49m\u001b[43msource\u001b[49m\u001b[43m)\u001b[49m\n\u001b[0;32m      9\u001b[0m \u001b[38;5;28;01mtry\u001b[39;00m:\n\u001b[0;32m     10\u001b[0m     query\u001b[38;5;241m=\u001b[39mr\u001b[38;5;241m.\u001b[39mrecognize_google(audio)\n",
            "File \u001b[1;32m~\\AppData\\Local\\Packages\\PythonSoftwareFoundation.Python.3.12_qbz5n2kfra8p0\\LocalCache\\local-packages\\Python312\\site-packages\\speech_recognition\\__init__.py:491\u001b[0m, in \u001b[0;36mRecognizer.listen\u001b[1;34m(self, source, timeout, phrase_time_limit, snowboy_configuration)\u001b[0m\n\u001b[0;32m    488\u001b[0m \u001b[38;5;28;01mif\u001b[39;00m timeout \u001b[38;5;129;01mand\u001b[39;00m elapsed_time \u001b[38;5;241m>\u001b[39m timeout:\n\u001b[0;32m    489\u001b[0m     \u001b[38;5;28;01mraise\u001b[39;00m WaitTimeoutError(\u001b[38;5;124m\"\u001b[39m\u001b[38;5;124mlistening timed out while waiting for phrase to start\u001b[39m\u001b[38;5;124m\"\u001b[39m)\n\u001b[1;32m--> 491\u001b[0m buffer \u001b[38;5;241m=\u001b[39m \u001b[43msource\u001b[49m\u001b[38;5;241;43m.\u001b[39;49m\u001b[43mstream\u001b[49m\u001b[38;5;241;43m.\u001b[39;49m\u001b[43mread\u001b[49m\u001b[43m(\u001b[49m\u001b[43msource\u001b[49m\u001b[38;5;241;43m.\u001b[39;49m\u001b[43mCHUNK\u001b[49m\u001b[43m)\u001b[49m\n\u001b[0;32m    492\u001b[0m \u001b[38;5;28;01mif\u001b[39;00m \u001b[38;5;28mlen\u001b[39m(buffer) \u001b[38;5;241m==\u001b[39m \u001b[38;5;241m0\u001b[39m: \u001b[38;5;28;01mbreak\u001b[39;00m  \u001b[38;5;66;03m# reached end of the stream\u001b[39;00m\n\u001b[0;32m    493\u001b[0m frames\u001b[38;5;241m.\u001b[39mappend(buffer)\n",
            "File \u001b[1;32m~\\AppData\\Local\\Packages\\PythonSoftwareFoundation.Python.3.12_qbz5n2kfra8p0\\LocalCache\\local-packages\\Python312\\site-packages\\speech_recognition\\__init__.py:199\u001b[0m, in \u001b[0;36mMicrophone.MicrophoneStream.read\u001b[1;34m(self, size)\u001b[0m\n\u001b[0;32m    198\u001b[0m \u001b[38;5;28;01mdef\u001b[39;00m \u001b[38;5;21mread\u001b[39m(\u001b[38;5;28mself\u001b[39m, size):\n\u001b[1;32m--> 199\u001b[0m     \u001b[38;5;28;01mreturn\u001b[39;00m \u001b[38;5;28;43mself\u001b[39;49m\u001b[38;5;241;43m.\u001b[39;49m\u001b[43mpyaudio_stream\u001b[49m\u001b[38;5;241;43m.\u001b[39;49m\u001b[43mread\u001b[49m\u001b[43m(\u001b[49m\u001b[43msize\u001b[49m\u001b[43m,\u001b[49m\u001b[43m \u001b[49m\u001b[43mexception_on_overflow\u001b[49m\u001b[38;5;241;43m=\u001b[39;49m\u001b[38;5;28;43;01mFalse\u001b[39;49;00m\u001b[43m)\u001b[49m\n",
            "File \u001b[1;32m~\\AppData\\Local\\Packages\\PythonSoftwareFoundation.Python.3.12_qbz5n2kfra8p0\\LocalCache\\local-packages\\Python312\\site-packages\\pyaudio\\__init__.py:570\u001b[0m, in \u001b[0;36mPyAudio.Stream.read\u001b[1;34m(self, num_frames, exception_on_overflow)\u001b[0m\n\u001b[0;32m    567\u001b[0m \u001b[38;5;28;01mif\u001b[39;00m \u001b[38;5;129;01mnot\u001b[39;00m \u001b[38;5;28mself\u001b[39m\u001b[38;5;241m.\u001b[39m_is_input:\n\u001b[0;32m    568\u001b[0m     \u001b[38;5;28;01mraise\u001b[39;00m \u001b[38;5;167;01mIOError\u001b[39;00m(\u001b[38;5;124m\"\u001b[39m\u001b[38;5;124mNot input stream\u001b[39m\u001b[38;5;124m\"\u001b[39m,\n\u001b[0;32m    569\u001b[0m                   paCanNotReadFromAnOutputOnlyStream)\n\u001b[1;32m--> 570\u001b[0m \u001b[38;5;28;01mreturn\u001b[39;00m \u001b[43mpa\u001b[49m\u001b[38;5;241;43m.\u001b[39;49m\u001b[43mread_stream\u001b[49m\u001b[43m(\u001b[49m\u001b[38;5;28;43mself\u001b[39;49m\u001b[38;5;241;43m.\u001b[39;49m\u001b[43m_stream\u001b[49m\u001b[43m,\u001b[49m\u001b[43m \u001b[49m\u001b[43mnum_frames\u001b[49m\u001b[43m,\u001b[49m\n\u001b[0;32m    571\u001b[0m \u001b[43m                      \u001b[49m\u001b[43mexception_on_overflow\u001b[49m\u001b[43m)\u001b[49m\n",
            "\u001b[1;31mKeyboardInterrupt\u001b[0m: "
          ]
        }
      ],
      "source": [
        "import speech_recognition as sr\n",
        "\n",
        "r = sr.Recognizer()\n",
        "\n",
        "with sr.Microphone() as source:\n",
        "    print(\"Speak:\")\n",
        "    audio = r.listen(source)\n",
        "\n",
        "try:\n",
        "    query=r.recognize_google(audio)\n",
        "    print(\"You said: \" + query)\n",
        "except sr.UnknownValueError:\n",
        "    print(\"Could not understand audio\")\n",
        "except sr.RequestError as e:\n",
        "    print(\"Could not request results; {0}\".format(e))\n"
      ]
    },
    {
      "cell_type": "markdown",
      "metadata": {
        "id": "M3EaFF9XtOT5"
      },
      "source": [
        "## dependencies"
      ]
    },
    {
      "cell_type": "code",
      "execution_count": 25,
      "metadata": {
        "colab": {
          "base_uri": "https://localhost:8080/"
        },
        "id": "1GWiGQXUtMzq",
        "outputId": "cc35a3a5-7d35-4ac9-9f45-dbfe4d805015"
      },
      "outputs": [
        {
          "name": "stdout",
          "output_type": "stream",
          "text": [
            "Defaulting to user installation because normal site-packages is not writeable\n",
            "Collecting pandas\n",
            "  Downloading pandas-2.2.0-cp312-cp312-win_amd64.whl.metadata (19 kB)\n",
            "Collecting numpy<2,>=1.26.0 (from pandas)\n",
            "  Downloading numpy-1.26.3-cp312-cp312-win_amd64.whl.metadata (61 kB)\n",
            "     ---------------------------------------- 0.0/61.2 kB ? eta -:--:--\n",
            "     ---------------------------------------- 61.2/61.2 kB 3.2 MB/s eta 0:00:00\n",
            "Requirement already satisfied: python-dateutil>=2.8.2 in c:\\users\\lenovo\\appdata\\local\\packages\\pythonsoftwarefoundation.python.3.12_qbz5n2kfra8p0\\localcache\\local-packages\\python312\\site-packages (from pandas) (2.8.2)\n",
            "Collecting pytz>=2020.1 (from pandas)\n",
            "  Downloading pytz-2023.4-py2.py3-none-any.whl.metadata (22 kB)\n",
            "Collecting tzdata>=2022.7 (from pandas)\n",
            "  Downloading tzdata-2023.4-py2.py3-none-any.whl.metadata (1.4 kB)\n",
            "Requirement already satisfied: six>=1.5 in c:\\users\\lenovo\\appdata\\local\\packages\\pythonsoftwarefoundation.python.3.12_qbz5n2kfra8p0\\localcache\\local-packages\\python312\\site-packages (from python-dateutil>=2.8.2->pandas) (1.16.0)\n",
            "Downloading pandas-2.2.0-cp312-cp312-win_amd64.whl (11.5 MB)\n",
            "   ---------------------------------------- 0.0/11.5 MB ? eta -:--:--\n",
            "   ---------------------------------------- 0.1/11.5 MB 2.0 MB/s eta 0:00:06\n",
            "   ---------------------------------------- 0.1/11.5 MB 1.7 MB/s eta 0:00:07\n",
            "    --------------------------------------- 0.2/11.5 MB 1.1 MB/s eta 0:00:10\n",
            "    --------------------------------------- 0.2/11.5 MB 1.4 MB/s eta 0:00:09\n",
            "    --------------------------------------- 0.3/11.5 MB 1.1 MB/s eta 0:00:10\n",
            "   - -------------------------------------- 0.4/11.5 MB 1.5 MB/s eta 0:00:08\n",
            "   - -------------------------------------- 0.5/11.5 MB 1.7 MB/s eta 0:00:07\n",
            "   -- ------------------------------------- 0.7/11.5 MB 1.9 MB/s eta 0:00:06\n",
            "   --- ------------------------------------ 1.0/11.5 MB 2.4 MB/s eta 0:00:05\n",
            "   ---- ----------------------------------- 1.2/11.5 MB 2.6 MB/s eta 0:00:05\n",
            "   ----- ---------------------------------- 1.5/11.5 MB 3.0 MB/s eta 0:00:04\n",
            "   ----- ---------------------------------- 1.5/11.5 MB 3.0 MB/s eta 0:00:04\n",
            "   ----- ---------------------------------- 1.5/11.5 MB 3.0 MB/s eta 0:00:04\n",
            "   ----- ---------------------------------- 1.5/11.5 MB 3.0 MB/s eta 0:00:04\n",
            "   ----- ---------------------------------- 1.5/11.5 MB 3.0 MB/s eta 0:00:04\n",
            "   ----- ---------------------------------- 1.5/11.5 MB 3.0 MB/s eta 0:00:04\n",
            "   ----- ---------------------------------- 1.6/11.5 MB 1.9 MB/s eta 0:00:06\n",
            "   ----- ---------------------------------- 1.6/11.5 MB 1.9 MB/s eta 0:00:06\n",
            "   ----- ---------------------------------- 1.6/11.5 MB 1.9 MB/s eta 0:00:06\n",
            "   ------ --------------------------------- 1.9/11.5 MB 1.9 MB/s eta 0:00:06\n",
            "   ------ --------------------------------- 1.9/11.5 MB 1.9 MB/s eta 0:00:06\n",
            "   ------- -------------------------------- 2.1/11.5 MB 1.8 MB/s eta 0:00:06\n",
            "   ------- -------------------------------- 2.1/11.5 MB 1.8 MB/s eta 0:00:06\n",
            "   ------- -------------------------------- 2.2/11.5 MB 1.8 MB/s eta 0:00:06\n",
            "   -------- ------------------------------- 2.3/11.5 MB 1.8 MB/s eta 0:00:06\n",
            "   -------- ------------------------------- 2.5/11.5 MB 1.9 MB/s eta 0:00:05\n",
            "   --------- ------------------------------ 2.6/11.5 MB 1.9 MB/s eta 0:00:05\n",
            "   --------- ------------------------------ 2.7/11.5 MB 1.9 MB/s eta 0:00:05\n",
            "   --------- ------------------------------ 2.7/11.5 MB 1.9 MB/s eta 0:00:05\n",
            "   --------- ------------------------------ 2.8/11.5 MB 1.7 MB/s eta 0:00:05\n",
            "   --------- ------------------------------ 2.9/11.5 MB 1.7 MB/s eta 0:00:06\n",
            "   ---------- ----------------------------- 3.1/11.5 MB 1.8 MB/s eta 0:00:05\n",
            "   ---------- ----------------------------- 3.1/11.5 MB 1.8 MB/s eta 0:00:05\n",
            "   ---------- ----------------------------- 3.1/11.5 MB 1.8 MB/s eta 0:00:05\n",
            "   ---------- ----------------------------- 3.1/11.5 MB 1.8 MB/s eta 0:00:05\n",
            "   ---------- ----------------------------- 3.1/11.5 MB 1.8 MB/s eta 0:00:05\n",
            "   ------------ --------------------------- 3.5/11.5 MB 1.7 MB/s eta 0:00:05\n",
            "   ------------ --------------------------- 3.5/11.5 MB 1.7 MB/s eta 0:00:05\n",
            "   ------------ --------------------------- 3.6/11.5 MB 1.6 MB/s eta 0:00:05\n",
            "   ------------ --------------------------- 3.6/11.5 MB 1.6 MB/s eta 0:00:05\n",
            "   ------------ --------------------------- 3.6/11.5 MB 1.6 MB/s eta 0:00:05\n",
            "   -------------- ------------------------- 4.2/11.5 MB 1.8 MB/s eta 0:00:04\n",
            "   -------------- ------------------------- 4.2/11.5 MB 1.8 MB/s eta 0:00:04\n",
            "   -------------- ------------------------- 4.2/11.5 MB 1.8 MB/s eta 0:00:04\n",
            "   --------------- ------------------------ 4.5/11.5 MB 1.8 MB/s eta 0:00:04\n",
            "   --------------- ------------------------ 4.5/11.5 MB 1.8 MB/s eta 0:00:04\n",
            "   --------------- ------------------------ 4.5/11.5 MB 1.8 MB/s eta 0:00:04\n",
            "   --------------- ------------------------ 4.5/11.5 MB 1.8 MB/s eta 0:00:04\n",
            "   --------------- ------------------------ 4.5/11.5 MB 1.8 MB/s eta 0:00:04\n",
            "   --------------- ------------------------ 4.5/11.5 MB 1.8 MB/s eta 0:00:04\n",
            "   ---------------- ----------------------- 4.6/11.5 MB 1.7 MB/s eta 0:00:05\n",
            "   ---------------- ----------------------- 4.8/11.5 MB 1.7 MB/s eta 0:00:04\n",
            "   ----------------- ---------------------- 4.9/11.5 MB 1.7 MB/s eta 0:00:04\n",
            "   ----------------- ---------------------- 4.9/11.5 MB 1.7 MB/s eta 0:00:04\n",
            "   ----------------- ---------------------- 4.9/11.5 MB 1.7 MB/s eta 0:00:04\n",
            "   ----------------- ---------------------- 5.1/11.5 MB 1.7 MB/s eta 0:00:04\n",
            "   ----------------- ---------------------- 5.1/11.5 MB 1.7 MB/s eta 0:00:04\n",
            "   ------------------ --------------------- 5.2/11.5 MB 1.7 MB/s eta 0:00:04\n",
            "   ------------------ --------------------- 5.2/11.5 MB 1.7 MB/s eta 0:00:04\n",
            "   ------------------ --------------------- 5.2/11.5 MB 1.7 MB/s eta 0:00:04\n",
            "   ------------------ --------------------- 5.3/11.5 MB 1.6 MB/s eta 0:00:04\n",
            "   ------------------- -------------------- 5.4/11.5 MB 1.7 MB/s eta 0:00:04\n",
            "   ------------------- -------------------- 5.5/11.5 MB 1.7 MB/s eta 0:00:04\n",
            "   ------------------- -------------------- 5.5/11.5 MB 1.7 MB/s eta 0:00:04\n",
            "   ------------------- -------------------- 5.5/11.5 MB 1.7 MB/s eta 0:00:04\n",
            "   ------------------- -------------------- 5.7/11.5 MB 1.7 MB/s eta 0:00:04\n",
            "   ------------------- -------------------- 5.7/11.5 MB 1.6 MB/s eta 0:00:04\n",
            "   -------------------- ------------------- 5.7/11.5 MB 1.6 MB/s eta 0:00:04\n",
            "   -------------------- ------------------- 5.8/11.5 MB 1.6 MB/s eta 0:00:04\n",
            "   -------------------- ------------------- 5.8/11.5 MB 1.6 MB/s eta 0:00:04\n",
            "   -------------------- ------------------- 5.9/11.5 MB 1.6 MB/s eta 0:00:04\n",
            "   -------------------- ------------------- 5.9/11.5 MB 1.6 MB/s eta 0:00:04\n",
            "   -------------------- ------------------- 5.9/11.5 MB 1.6 MB/s eta 0:00:04\n",
            "   -------------------- ------------------- 6.0/11.5 MB 1.6 MB/s eta 0:00:04\n",
            "   --------------------- ------------------ 6.0/11.5 MB 1.6 MB/s eta 0:00:04\n",
            "   --------------------- ------------------ 6.0/11.5 MB 1.6 MB/s eta 0:00:04\n",
            "   --------------------- ------------------ 6.1/11.5 MB 1.6 MB/s eta 0:00:04\n",
            "   --------------------- ------------------ 6.1/11.5 MB 1.5 MB/s eta 0:00:04\n",
            "   --------------------- ------------------ 6.2/11.5 MB 1.5 MB/s eta 0:00:04\n",
            "   --------------------- ------------------ 6.2/11.5 MB 1.5 MB/s eta 0:00:04\n",
            "   --------------------- ------------------ 6.3/11.5 MB 1.5 MB/s eta 0:00:04\n",
            "   ---------------------- ----------------- 6.3/11.5 MB 1.5 MB/s eta 0:00:04\n",
            "   ---------------------- ----------------- 6.4/11.5 MB 1.5 MB/s eta 0:00:04\n",
            "   ---------------------- ----------------- 6.4/11.5 MB 1.5 MB/s eta 0:00:04\n",
            "   ---------------------- ----------------- 6.5/11.5 MB 1.5 MB/s eta 0:00:04\n",
            "   ---------------------- ----------------- 6.5/11.5 MB 1.5 MB/s eta 0:00:04\n",
            "   ---------------------- ----------------- 6.6/11.5 MB 1.5 MB/s eta 0:00:04\n",
            "   ----------------------- ---------------- 6.6/11.5 MB 1.5 MB/s eta 0:00:04\n",
            "   ----------------------- ---------------- 6.7/11.5 MB 1.5 MB/s eta 0:00:04\n",
            "   ----------------------- ---------------- 6.7/11.5 MB 1.5 MB/s eta 0:00:04\n",
            "   ----------------------- ---------------- 6.7/11.5 MB 1.4 MB/s eta 0:00:04\n",
            "   ----------------------- ---------------- 6.8/11.5 MB 1.4 MB/s eta 0:00:04\n",
            "   ----------------------- ---------------- 6.9/11.5 MB 1.4 MB/s eta 0:00:04\n",
            "   ------------------------ --------------- 6.9/11.5 MB 1.4 MB/s eta 0:00:04\n",
            "   ------------------------ --------------- 7.0/11.5 MB 1.4 MB/s eta 0:00:04\n",
            "   ------------------------ --------------- 7.0/11.5 MB 1.4 MB/s eta 0:00:04\n",
            "   ------------------------ --------------- 7.0/11.5 MB 1.4 MB/s eta 0:00:04\n",
            "   ------------------------ --------------- 7.1/11.5 MB 1.4 MB/s eta 0:00:04\n",
            "   ------------------------ --------------- 7.1/11.5 MB 1.4 MB/s eta 0:00:04\n",
            "   ------------------------- -------------- 7.2/11.5 MB 1.4 MB/s eta 0:00:04\n",
            "   ------------------------- -------------- 7.3/11.5 MB 1.4 MB/s eta 0:00:03\n",
            "   ------------------------- -------------- 7.4/11.5 MB 1.4 MB/s eta 0:00:03\n",
            "   ------------------------- -------------- 7.4/11.5 MB 1.4 MB/s eta 0:00:03\n",
            "   ------------------------- -------------- 7.4/11.5 MB 1.4 MB/s eta 0:00:03\n",
            "   -------------------------- ------------- 7.5/11.5 MB 1.4 MB/s eta 0:00:03\n",
            "   -------------------------- ------------- 7.5/11.5 MB 1.4 MB/s eta 0:00:03\n",
            "   -------------------------- ------------- 7.6/11.5 MB 1.4 MB/s eta 0:00:03\n",
            "   -------------------------- ------------- 7.6/11.5 MB 1.4 MB/s eta 0:00:03\n",
            "   -------------------------- ------------- 7.7/11.5 MB 1.4 MB/s eta 0:00:03\n",
            "   -------------------------- ------------- 7.7/11.5 MB 1.4 MB/s eta 0:00:03\n",
            "   --------------------------- ------------ 7.8/11.5 MB 1.4 MB/s eta 0:00:03\n",
            "   --------------------------- ------------ 7.8/11.5 MB 1.4 MB/s eta 0:00:03\n",
            "   --------------------------- ------------ 7.9/11.5 MB 1.4 MB/s eta 0:00:03\n",
            "   --------------------------- ------------ 7.9/11.5 MB 1.4 MB/s eta 0:00:03\n",
            "   --------------------------- ------------ 8.0/11.5 MB 1.4 MB/s eta 0:00:03\n",
            "   ---------------------------- ----------- 8.0/11.5 MB 1.4 MB/s eta 0:00:03\n",
            "   ---------------------------- ----------- 8.1/11.5 MB 1.4 MB/s eta 0:00:03\n",
            "   ---------------------------- ----------- 8.1/11.5 MB 1.4 MB/s eta 0:00:03\n",
            "   ---------------------------- ----------- 8.2/11.5 MB 1.3 MB/s eta 0:00:03\n",
            "   ---------------------------- ----------- 8.2/11.5 MB 1.3 MB/s eta 0:00:03\n",
            "   ---------------------------- ----------- 8.2/11.5 MB 1.3 MB/s eta 0:00:03\n",
            "   ---------------------------- ----------- 8.3/11.5 MB 1.3 MB/s eta 0:00:03\n",
            "   ---------------------------- ----------- 8.3/11.5 MB 1.3 MB/s eta 0:00:03\n",
            "   ----------------------------- ---------- 8.3/11.5 MB 1.3 MB/s eta 0:00:03\n",
            "   ----------------------------- ---------- 8.4/11.5 MB 1.3 MB/s eta 0:00:03\n",
            "   ----------------------------- ---------- 8.4/11.5 MB 1.3 MB/s eta 0:00:03\n",
            "   ----------------------------- ---------- 8.5/11.5 MB 1.3 MB/s eta 0:00:03\n",
            "   ----------------------------- ---------- 8.5/11.5 MB 1.3 MB/s eta 0:00:03\n",
            "   ----------------------------- ---------- 8.6/11.5 MB 1.3 MB/s eta 0:00:03\n",
            "   ------------------------------ --------- 8.6/11.5 MB 1.3 MB/s eta 0:00:03\n",
            "   ------------------------------ --------- 8.7/11.5 MB 1.3 MB/s eta 0:00:03\n",
            "   ------------------------------ --------- 8.7/11.5 MB 1.3 MB/s eta 0:00:03\n",
            "   ------------------------------ --------- 8.8/11.5 MB 1.3 MB/s eta 0:00:03\n",
            "   ------------------------------ --------- 8.8/11.5 MB 1.3 MB/s eta 0:00:03\n",
            "   ------------------------------ --------- 8.8/11.5 MB 1.3 MB/s eta 0:00:02\n",
            "   ------------------------------- -------- 8.9/11.5 MB 1.3 MB/s eta 0:00:02\n",
            "   ------------------------------- -------- 8.9/11.5 MB 1.3 MB/s eta 0:00:02\n",
            "   ------------------------------- -------- 9.0/11.5 MB 1.3 MB/s eta 0:00:02\n",
            "   ------------------------------- -------- 9.0/11.5 MB 1.3 MB/s eta 0:00:02\n",
            "   ------------------------------- -------- 9.1/11.5 MB 1.3 MB/s eta 0:00:02\n",
            "   ------------------------------- -------- 9.1/11.5 MB 1.3 MB/s eta 0:00:02\n",
            "   ------------------------------- -------- 9.2/11.5 MB 1.3 MB/s eta 0:00:02\n",
            "   -------------------------------- ------- 9.2/11.5 MB 1.3 MB/s eta 0:00:02\n",
            "   -------------------------------- ------- 9.3/11.5 MB 1.3 MB/s eta 0:00:02\n",
            "   -------------------------------- ------- 9.3/11.5 MB 1.3 MB/s eta 0:00:02\n",
            "   -------------------------------- ------- 9.4/11.5 MB 1.3 MB/s eta 0:00:02\n",
            "   -------------------------------- ------- 9.4/11.5 MB 1.3 MB/s eta 0:00:02\n",
            "   -------------------------------- ------- 9.5/11.5 MB 1.3 MB/s eta 0:00:02\n",
            "   --------------------------------- ------ 9.5/11.5 MB 1.3 MB/s eta 0:00:02\n",
            "   --------------------------------- ------ 9.6/11.5 MB 1.3 MB/s eta 0:00:02\n",
            "   --------------------------------- ------ 9.6/11.5 MB 1.3 MB/s eta 0:00:02\n",
            "   --------------------------------- ------ 9.7/11.5 MB 1.3 MB/s eta 0:00:02\n",
            "   --------------------------------- ------ 9.7/11.5 MB 1.3 MB/s eta 0:00:02\n",
            "   ---------------------------------- ----- 9.8/11.5 MB 1.3 MB/s eta 0:00:02\n",
            "   ---------------------------------- ----- 9.8/11.5 MB 1.3 MB/s eta 0:00:02\n",
            "   ---------------------------------- ----- 9.9/11.5 MB 1.3 MB/s eta 0:00:02\n",
            "   ---------------------------------- ----- 9.9/11.5 MB 1.3 MB/s eta 0:00:02\n",
            "   ---------------------------------- ----- 10.0/11.5 MB 1.3 MB/s eta 0:00:02\n",
            "   ---------------------------------- ----- 10.0/11.5 MB 1.3 MB/s eta 0:00:02\n",
            "   ----------------------------------- ---- 10.0/11.5 MB 1.3 MB/s eta 0:00:02\n",
            "   ----------------------------------- ---- 10.1/11.5 MB 1.3 MB/s eta 0:00:02\n",
            "   ----------------------------------- ---- 10.1/11.5 MB 1.3 MB/s eta 0:00:02\n",
            "   ----------------------------------- ---- 10.2/11.5 MB 1.3 MB/s eta 0:00:02\n",
            "   ----------------------------------- ---- 10.2/11.5 MB 1.3 MB/s eta 0:00:01\n",
            "   ----------------------------------- ---- 10.3/11.5 MB 1.3 MB/s eta 0:00:01\n",
            "   ------------------------------------ --- 10.4/11.5 MB 1.3 MB/s eta 0:00:01\n",
            "   ------------------------------------ --- 10.4/11.5 MB 1.3 MB/s eta 0:00:01\n",
            "   ------------------------------------ --- 10.4/11.5 MB 1.3 MB/s eta 0:00:01\n",
            "   ------------------------------------ --- 10.5/11.5 MB 1.3 MB/s eta 0:00:01\n",
            "   ------------------------------------ --- 10.5/11.5 MB 1.3 MB/s eta 0:00:01\n",
            "   ------------------------------------ --- 10.6/11.5 MB 1.3 MB/s eta 0:00:01\n",
            "   ------------------------------------- -- 10.6/11.5 MB 1.2 MB/s eta 0:00:01\n",
            "   ------------------------------------- -- 10.7/11.5 MB 1.2 MB/s eta 0:00:01\n",
            "   ------------------------------------- -- 10.7/11.5 MB 1.2 MB/s eta 0:00:01\n",
            "   ------------------------------------- -- 10.8/11.5 MB 1.2 MB/s eta 0:00:01\n",
            "   ------------------------------------- -- 10.8/11.5 MB 1.2 MB/s eta 0:00:01\n",
            "   ------------------------------------- -- 10.9/11.5 MB 1.2 MB/s eta 0:00:01\n",
            "   -------------------------------------- - 10.9/11.5 MB 1.2 MB/s eta 0:00:01\n",
            "   -------------------------------------- - 11.0/11.5 MB 1.2 MB/s eta 0:00:01\n",
            "   -------------------------------------- - 11.0/11.5 MB 1.2 MB/s eta 0:00:01\n",
            "   -------------------------------------- - 11.1/11.5 MB 1.2 MB/s eta 0:00:01\n",
            "   -------------------------------------- - 11.1/11.5 MB 1.2 MB/s eta 0:00:01\n",
            "   ---------------------------------------  11.2/11.5 MB 1.2 MB/s eta 0:00:01\n",
            "   ---------------------------------------  11.2/11.5 MB 1.2 MB/s eta 0:00:01\n",
            "   ---------------------------------------  11.3/11.5 MB 1.2 MB/s eta 0:00:01\n",
            "   ---------------------------------------  11.3/11.5 MB 1.2 MB/s eta 0:00:01\n",
            "   ---------------------------------------  11.4/11.5 MB 1.2 MB/s eta 0:00:01\n",
            "   ---------------------------------------  11.5/11.5 MB 1.2 MB/s eta 0:00:01\n",
            "   ---------------------------------------  11.5/11.5 MB 1.2 MB/s eta 0:00:01\n",
            "   ---------------------------------------- 11.5/11.5 MB 1.2 MB/s eta 0:00:00\n",
            "Downloading numpy-1.26.3-cp312-cp312-win_amd64.whl (15.5 MB)\n",
            "   ---------------------------------------- 0.0/15.5 MB ? eta -:--:--\n",
            "   ---------------------------------------- 0.1/15.5 MB 1.7 MB/s eta 0:00:10\n",
            "   ---------------------------------------- 0.1/15.5 MB 1.4 MB/s eta 0:00:11\n",
            "   ---------------------------------------- 0.2/15.5 MB 1.1 MB/s eta 0:00:14\n",
            "    --------------------------------------- 0.2/15.5 MB 1.3 MB/s eta 0:00:13\n",
            "    --------------------------------------- 0.3/15.5 MB 1.3 MB/s eta 0:00:12\n",
            "    --------------------------------------- 0.3/15.5 MB 1.2 MB/s eta 0:00:13\n",
            "    --------------------------------------- 0.4/15.5 MB 1.1 MB/s eta 0:00:14\n",
            "   - -------------------------------------- 0.4/15.5 MB 1.2 MB/s eta 0:00:13\n",
            "   - -------------------------------------- 0.5/15.5 MB 1.2 MB/s eta 0:00:13\n",
            "   - -------------------------------------- 0.5/15.5 MB 1.2 MB/s eta 0:00:13\n",
            "   - -------------------------------------- 0.6/15.5 MB 1.2 MB/s eta 0:00:13\n",
            "   - -------------------------------------- 0.6/15.5 MB 1.2 MB/s eta 0:00:13\n",
            "   - -------------------------------------- 0.7/15.5 MB 1.2 MB/s eta 0:00:13\n",
            "   - -------------------------------------- 0.8/15.5 MB 1.2 MB/s eta 0:00:13\n",
            "   -- ------------------------------------- 0.8/15.5 MB 1.2 MB/s eta 0:00:13\n",
            "   -- ------------------------------------- 0.9/15.5 MB 1.2 MB/s eta 0:00:13\n",
            "   -- ------------------------------------- 1.0/15.5 MB 1.2 MB/s eta 0:00:13\n",
            "   -- ------------------------------------- 1.0/15.5 MB 1.2 MB/s eta 0:00:13\n",
            "   -- ------------------------------------- 1.1/15.5 MB 1.2 MB/s eta 0:00:13\n",
            "   -- ------------------------------------- 1.1/15.5 MB 1.2 MB/s eta 0:00:13\n",
            "   --- ------------------------------------ 1.2/15.5 MB 1.2 MB/s eta 0:00:13\n",
            "   --- ------------------------------------ 1.2/15.5 MB 1.2 MB/s eta 0:00:12\n",
            "   --- ------------------------------------ 1.3/15.5 MB 1.2 MB/s eta 0:00:12\n",
            "   --- ------------------------------------ 1.4/15.5 MB 1.2 MB/s eta 0:00:12\n",
            "   --- ------------------------------------ 1.4/15.5 MB 1.2 MB/s eta 0:00:12\n",
            "   --- ------------------------------------ 1.5/15.5 MB 1.2 MB/s eta 0:00:12\n",
            "   ---- ----------------------------------- 1.6/15.5 MB 1.2 MB/s eta 0:00:12\n",
            "   ---- ----------------------------------- 1.7/15.5 MB 1.2 MB/s eta 0:00:12\n",
            "   ---- ----------------------------------- 1.8/15.5 MB 1.2 MB/s eta 0:00:12\n",
            "   ---- ----------------------------------- 1.8/15.5 MB 1.2 MB/s eta 0:00:12\n",
            "   ---- ----------------------------------- 1.9/15.5 MB 1.2 MB/s eta 0:00:12\n",
            "   ---- ----------------------------------- 1.9/15.5 MB 1.2 MB/s eta 0:00:12\n",
            "   ----- ---------------------------------- 2.0/15.5 MB 1.2 MB/s eta 0:00:12\n",
            "   ----- ---------------------------------- 2.1/15.5 MB 1.2 MB/s eta 0:00:12\n",
            "   ----- ---------------------------------- 2.1/15.5 MB 1.2 MB/s eta 0:00:12\n",
            "   ----- ---------------------------------- 2.2/15.5 MB 1.2 MB/s eta 0:00:11\n",
            "   ----- ---------------------------------- 2.3/15.5 MB 1.2 MB/s eta 0:00:11\n",
            "   ------ --------------------------------- 2.3/15.5 MB 1.2 MB/s eta 0:00:11\n",
            "   ------ --------------------------------- 2.4/15.5 MB 1.2 MB/s eta 0:00:11\n",
            "   ------ --------------------------------- 2.5/15.5 MB 1.2 MB/s eta 0:00:11\n",
            "   ------ --------------------------------- 2.5/15.5 MB 1.2 MB/s eta 0:00:11\n",
            "   ------ --------------------------------- 2.6/15.5 MB 1.2 MB/s eta 0:00:11\n",
            "   ------ --------------------------------- 2.7/15.5 MB 1.2 MB/s eta 0:00:11\n",
            "   ------- -------------------------------- 2.7/15.5 MB 1.2 MB/s eta 0:00:11\n",
            "   ------- -------------------------------- 2.8/15.5 MB 1.2 MB/s eta 0:00:11\n",
            "   ------- -------------------------------- 2.9/15.5 MB 1.2 MB/s eta 0:00:11\n",
            "   ------- -------------------------------- 2.9/15.5 MB 1.2 MB/s eta 0:00:11\n",
            "   ------- -------------------------------- 3.0/15.5 MB 1.3 MB/s eta 0:00:11\n",
            "   ------- -------------------------------- 3.1/15.5 MB 1.3 MB/s eta 0:00:10\n",
            "   -------- ------------------------------- 3.2/15.5 MB 1.3 MB/s eta 0:00:10\n",
            "   -------- ------------------------------- 3.3/15.5 MB 1.3 MB/s eta 0:00:10\n",
            "   -------- ------------------------------- 3.4/15.5 MB 1.3 MB/s eta 0:00:10\n",
            "   -------- ------------------------------- 3.4/15.5 MB 1.3 MB/s eta 0:00:10\n",
            "   --------- ------------------------------ 3.5/15.5 MB 1.3 MB/s eta 0:00:10\n",
            "   --------- ------------------------------ 3.6/15.5 MB 1.3 MB/s eta 0:00:10\n",
            "   --------- ------------------------------ 3.7/15.5 MB 1.3 MB/s eta 0:00:10\n",
            "   --------- ------------------------------ 3.8/15.5 MB 1.3 MB/s eta 0:00:10\n",
            "   --------- ------------------------------ 3.8/15.5 MB 1.3 MB/s eta 0:00:09\n",
            "   ---------- ----------------------------- 3.9/15.5 MB 1.3 MB/s eta 0:00:09\n",
            "   ---------- ----------------------------- 4.0/15.5 MB 1.3 MB/s eta 0:00:09\n",
            "   ---------- ----------------------------- 4.1/15.5 MB 1.3 MB/s eta 0:00:09\n",
            "   ---------- ----------------------------- 4.1/15.5 MB 1.3 MB/s eta 0:00:09\n",
            "   ---------- ----------------------------- 4.2/15.5 MB 1.3 MB/s eta 0:00:09\n",
            "   ----------- ---------------------------- 4.3/15.5 MB 1.3 MB/s eta 0:00:09\n",
            "   ----------- ---------------------------- 4.4/15.5 MB 1.3 MB/s eta 0:00:09\n",
            "   ----------- ---------------------------- 4.5/15.5 MB 1.4 MB/s eta 0:00:09\n",
            "   ----------- ---------------------------- 4.5/15.5 MB 1.4 MB/s eta 0:00:09\n",
            "   ------------ --------------------------- 4.7/15.5 MB 1.4 MB/s eta 0:00:08\n",
            "   ------------ --------------------------- 4.8/15.5 MB 1.4 MB/s eta 0:00:08\n",
            "   ------------ --------------------------- 4.9/15.5 MB 1.4 MB/s eta 0:00:08\n",
            "   ------------ --------------------------- 5.0/15.5 MB 1.4 MB/s eta 0:00:08\n",
            "   ------------- -------------------------- 5.1/15.5 MB 1.4 MB/s eta 0:00:08\n",
            "   ------------- -------------------------- 5.2/15.5 MB 1.4 MB/s eta 0:00:08\n",
            "   ------------- -------------------------- 5.3/15.5 MB 1.4 MB/s eta 0:00:08\n",
            "   ------------- -------------------------- 5.4/15.5 MB 1.4 MB/s eta 0:00:08\n",
            "   -------------- ------------------------- 5.5/15.5 MB 1.4 MB/s eta 0:00:07\n",
            "   -------------- ------------------------- 5.6/15.5 MB 1.4 MB/s eta 0:00:07\n",
            "   -------------- ------------------------- 5.7/15.5 MB 1.5 MB/s eta 0:00:07\n",
            "   -------------- ------------------------- 5.8/15.5 MB 1.5 MB/s eta 0:00:07\n",
            "   --------------- ------------------------ 5.9/15.5 MB 1.5 MB/s eta 0:00:07\n",
            "   --------------- ------------------------ 6.0/15.5 MB 1.5 MB/s eta 0:00:07\n",
            "   --------------- ------------------------ 6.0/15.5 MB 1.5 MB/s eta 0:00:07\n",
            "   --------------- ------------------------ 6.0/15.5 MB 1.5 MB/s eta 0:00:07\n",
            "   --------------- ------------------------ 6.0/15.5 MB 1.5 MB/s eta 0:00:07\n",
            "   ---------------- ----------------------- 6.3/15.5 MB 1.5 MB/s eta 0:00:07\n",
            "   ---------------- ----------------------- 6.3/15.5 MB 1.5 MB/s eta 0:00:07\n",
            "   ---------------- ----------------------- 6.3/15.5 MB 1.5 MB/s eta 0:00:07\n",
            "   ---------------- ----------------------- 6.5/15.5 MB 1.5 MB/s eta 0:00:07\n",
            "   ---------------- ----------------------- 6.5/15.5 MB 1.5 MB/s eta 0:00:07\n",
            "   ----------------- ---------------------- 6.7/15.5 MB 1.5 MB/s eta 0:00:06\n",
            "   ----------------- ---------------------- 6.7/15.5 MB 1.5 MB/s eta 0:00:06\n",
            "   ----------------- ---------------------- 6.8/15.5 MB 1.5 MB/s eta 0:00:06\n",
            "   ----------------- ---------------------- 6.8/15.5 MB 1.5 MB/s eta 0:00:06\n",
            "   ----------------- ---------------------- 6.9/15.5 MB 1.5 MB/s eta 0:00:06\n",
            "   ----------------- ---------------------- 6.9/15.5 MB 1.5 MB/s eta 0:00:06\n",
            "   ------------------ --------------------- 7.0/15.5 MB 1.5 MB/s eta 0:00:06\n",
            "   ------------------ --------------------- 7.1/15.5 MB 1.5 MB/s eta 0:00:06\n",
            "   ------------------ --------------------- 7.1/15.5 MB 1.5 MB/s eta 0:00:06\n",
            "   ------------------ --------------------- 7.2/15.5 MB 1.5 MB/s eta 0:00:06\n",
            "   ------------------ --------------------- 7.3/15.5 MB 1.5 MB/s eta 0:00:06\n",
            "   ------------------ --------------------- 7.3/15.5 MB 1.5 MB/s eta 0:00:06\n",
            "   ------------------- -------------------- 7.4/15.5 MB 1.5 MB/s eta 0:00:06\n",
            "   ------------------- -------------------- 7.5/15.5 MB 1.5 MB/s eta 0:00:06\n",
            "   ------------------- -------------------- 7.5/15.5 MB 1.5 MB/s eta 0:00:06\n",
            "   ------------------- -------------------- 7.6/15.5 MB 1.4 MB/s eta 0:00:06\n",
            "   ------------------- -------------------- 7.6/15.5 MB 1.4 MB/s eta 0:00:06\n",
            "   ------------------- -------------------- 7.7/15.5 MB 1.4 MB/s eta 0:00:06\n",
            "   ------------------- -------------------- 7.8/15.5 MB 1.4 MB/s eta 0:00:06\n",
            "   -------------------- ------------------- 7.8/15.5 MB 1.4 MB/s eta 0:00:06\n",
            "   -------------------- ------------------- 7.9/15.5 MB 1.4 MB/s eta 0:00:06\n",
            "   -------------------- ------------------- 7.9/15.5 MB 1.4 MB/s eta 0:00:06\n",
            "   -------------------- ------------------- 8.0/15.5 MB 1.4 MB/s eta 0:00:06\n",
            "   -------------------- ------------------- 8.0/15.5 MB 1.4 MB/s eta 0:00:06\n",
            "   -------------------- ------------------- 8.1/15.5 MB 1.4 MB/s eta 0:00:06\n",
            "   --------------------- ------------------ 8.2/15.5 MB 1.4 MB/s eta 0:00:06\n",
            "   --------------------- ------------------ 8.2/15.5 MB 1.4 MB/s eta 0:00:06\n",
            "   --------------------- ------------------ 8.3/15.5 MB 1.4 MB/s eta 0:00:06\n",
            "   --------------------- ------------------ 8.3/15.5 MB 1.4 MB/s eta 0:00:06\n",
            "   --------------------- ------------------ 8.4/15.5 MB 1.4 MB/s eta 0:00:06\n",
            "   --------------------- ------------------ 8.4/15.5 MB 1.4 MB/s eta 0:00:05\n",
            "   --------------------- ------------------ 8.5/15.5 MB 1.4 MB/s eta 0:00:05\n",
            "   ---------------------- ----------------- 8.6/15.5 MB 1.4 MB/s eta 0:00:05\n",
            "   ---------------------- ----------------- 8.6/15.5 MB 1.4 MB/s eta 0:00:05\n",
            "   ---------------------- ----------------- 8.7/15.5 MB 1.4 MB/s eta 0:00:05\n",
            "   ---------------------- ----------------- 8.8/15.5 MB 1.4 MB/s eta 0:00:05\n",
            "   ---------------------- ----------------- 8.8/15.5 MB 1.4 MB/s eta 0:00:05\n",
            "   ---------------------- ----------------- 8.9/15.5 MB 1.4 MB/s eta 0:00:05\n",
            "   ----------------------- ---------------- 8.9/15.5 MB 1.4 MB/s eta 0:00:05\n",
            "   ----------------------- ---------------- 9.0/15.5 MB 1.4 MB/s eta 0:00:05\n",
            "   ----------------------- ---------------- 9.0/15.5 MB 1.4 MB/s eta 0:00:05\n",
            "   ----------------------- ---------------- 9.1/15.5 MB 1.4 MB/s eta 0:00:05\n",
            "   ----------------------- ---------------- 9.1/15.5 MB 1.4 MB/s eta 0:00:05\n",
            "   ----------------------- ---------------- 9.2/15.5 MB 1.4 MB/s eta 0:00:05\n",
            "   ----------------------- ---------------- 9.3/15.5 MB 1.4 MB/s eta 0:00:05\n",
            "   ------------------------ --------------- 9.3/15.5 MB 1.4 MB/s eta 0:00:05\n",
            "   ------------------------ --------------- 9.4/15.5 MB 1.4 MB/s eta 0:00:05\n",
            "   ------------------------ --------------- 9.5/15.5 MB 1.4 MB/s eta 0:00:05\n",
            "   ------------------------ --------------- 9.5/15.5 MB 1.4 MB/s eta 0:00:05\n",
            "   ------------------------ --------------- 9.5/15.5 MB 1.4 MB/s eta 0:00:05\n",
            "   ------------------------ --------------- 9.6/15.5 MB 1.4 MB/s eta 0:00:05\n",
            "   ------------------------ --------------- 9.7/15.5 MB 1.4 MB/s eta 0:00:05\n",
            "   ------------------------- -------------- 9.7/15.5 MB 1.4 MB/s eta 0:00:05\n",
            "   ------------------------- -------------- 9.8/15.5 MB 1.4 MB/s eta 0:00:05\n",
            "   ------------------------- -------------- 9.9/15.5 MB 1.4 MB/s eta 0:00:05\n",
            "   ------------------------- -------------- 9.9/15.5 MB 1.4 MB/s eta 0:00:05\n",
            "   ------------------------- -------------- 10.0/15.5 MB 1.4 MB/s eta 0:00:04\n",
            "   ------------------------- -------------- 10.0/15.5 MB 1.4 MB/s eta 0:00:04\n",
            "   ------------------------- -------------- 10.0/15.5 MB 1.4 MB/s eta 0:00:04\n",
            "   -------------------------- ------------- 10.1/15.5 MB 1.4 MB/s eta 0:00:04\n",
            "   -------------------------- ------------- 10.2/15.5 MB 1.4 MB/s eta 0:00:04\n",
            "   -------------------------- ------------- 10.2/15.5 MB 1.4 MB/s eta 0:00:04\n",
            "   -------------------------- ------------- 10.3/15.5 MB 1.4 MB/s eta 0:00:04\n",
            "   -------------------------- ------------- 10.3/15.5 MB 1.4 MB/s eta 0:00:04\n",
            "   -------------------------- ------------- 10.4/15.5 MB 1.4 MB/s eta 0:00:04\n",
            "   -------------------------- ------------- 10.5/15.5 MB 1.4 MB/s eta 0:00:04\n",
            "   --------------------------- ------------ 10.5/15.5 MB 1.4 MB/s eta 0:00:04\n",
            "   --------------------------- ------------ 10.6/15.5 MB 1.4 MB/s eta 0:00:04\n",
            "   --------------------------- ------------ 10.6/15.5 MB 1.4 MB/s eta 0:00:04\n",
            "   --------------------------- ------------ 10.7/15.5 MB 1.4 MB/s eta 0:00:04\n",
            "   --------------------------- ------------ 10.7/15.5 MB 1.4 MB/s eta 0:00:04\n",
            "   --------------------------- ------------ 10.8/15.5 MB 1.4 MB/s eta 0:00:04\n",
            "   ---------------------------- ----------- 10.9/15.5 MB 1.4 MB/s eta 0:00:04\n",
            "   ---------------------------- ----------- 10.9/15.5 MB 1.4 MB/s eta 0:00:04\n",
            "   ---------------------------- ----------- 11.0/15.5 MB 1.4 MB/s eta 0:00:04\n",
            "   ---------------------------- ----------- 11.1/15.5 MB 1.4 MB/s eta 0:00:04\n",
            "   ---------------------------- ----------- 11.2/15.5 MB 1.4 MB/s eta 0:00:04\n",
            "   ----------------------------- ---------- 11.3/15.5 MB 1.4 MB/s eta 0:00:04\n",
            "   ----------------------------- ---------- 11.3/15.5 MB 1.4 MB/s eta 0:00:03\n",
            "   ----------------------------- ---------- 11.4/15.5 MB 1.4 MB/s eta 0:00:03\n",
            "   ----------------------------- ---------- 11.4/15.5 MB 1.4 MB/s eta 0:00:03\n",
            "   ----------------------------- ---------- 11.5/15.5 MB 1.4 MB/s eta 0:00:03\n",
            "   ----------------------------- ---------- 11.6/15.5 MB 1.4 MB/s eta 0:00:03\n",
            "   ----------------------------- ---------- 11.6/15.5 MB 1.4 MB/s eta 0:00:03\n",
            "   ------------------------------ --------- 11.7/15.5 MB 1.4 MB/s eta 0:00:03\n",
            "   ------------------------------ --------- 11.7/15.5 MB 1.4 MB/s eta 0:00:03\n",
            "   ------------------------------ --------- 11.8/15.5 MB 1.4 MB/s eta 0:00:03\n",
            "   ------------------------------ --------- 11.8/15.5 MB 1.4 MB/s eta 0:00:03\n",
            "   ------------------------------ --------- 11.9/15.5 MB 1.4 MB/s eta 0:00:03\n",
            "   ------------------------------ --------- 12.0/15.5 MB 1.4 MB/s eta 0:00:03\n",
            "   ------------------------------- -------- 12.1/15.5 MB 1.4 MB/s eta 0:00:03\n",
            "   ------------------------------- -------- 12.1/15.5 MB 1.4 MB/s eta 0:00:03\n",
            "   ------------------------------- -------- 12.3/15.5 MB 1.4 MB/s eta 0:00:03\n",
            "   -------------------------------- ------- 12.4/15.5 MB 1.4 MB/s eta 0:00:03\n",
            "   -------------------------------- ------- 12.5/15.5 MB 1.4 MB/s eta 0:00:03\n",
            "   -------------------------------- ------- 12.6/15.5 MB 1.4 MB/s eta 0:00:03\n",
            "   -------------------------------- ------- 12.7/15.5 MB 1.4 MB/s eta 0:00:02\n",
            "   -------------------------------- ------- 12.7/15.5 MB 1.4 MB/s eta 0:00:02\n",
            "   -------------------------------- ------- 12.8/15.5 MB 1.4 MB/s eta 0:00:02\n",
            "   --------------------------------- ------ 12.9/15.5 MB 1.4 MB/s eta 0:00:02\n",
            "   --------------------------------- ------ 12.9/15.5 MB 1.4 MB/s eta 0:00:02\n",
            "   --------------------------------- ------ 13.0/15.5 MB 1.4 MB/s eta 0:00:02\n",
            "   --------------------------------- ------ 13.1/15.5 MB 1.4 MB/s eta 0:00:02\n",
            "   --------------------------------- ------ 13.1/15.5 MB 1.4 MB/s eta 0:00:02\n",
            "   ---------------------------------- ----- 13.3/15.5 MB 1.4 MB/s eta 0:00:02\n",
            "   ---------------------------------- ----- 13.4/15.5 MB 1.4 MB/s eta 0:00:02\n",
            "   ---------------------------------- ----- 13.4/15.5 MB 1.4 MB/s eta 0:00:02\n",
            "   ---------------------------------- ----- 13.4/15.5 MB 1.4 MB/s eta 0:00:02\n",
            "   ---------------------------------- ----- 13.4/15.5 MB 1.4 MB/s eta 0:00:02\n",
            "   ---------------------------------- ----- 13.5/15.5 MB 1.4 MB/s eta 0:00:02\n",
            "   ---------------------------------- ----- 13.5/15.5 MB 1.4 MB/s eta 0:00:02\n",
            "   ---------------------------------- ----- 13.5/15.5 MB 1.4 MB/s eta 0:00:02\n",
            "   ---------------------------------- ----- 13.5/15.5 MB 1.4 MB/s eta 0:00:02\n",
            "   ---------------------------------- ----- 13.5/15.5 MB 1.4 MB/s eta 0:00:02\n",
            "   ----------------------------------- ---- 13.8/15.5 MB 1.3 MB/s eta 0:00:02\n",
            "   ----------------------------------- ---- 13.8/15.5 MB 1.3 MB/s eta 0:00:02\n",
            "   ----------------------------------- ---- 13.8/15.5 MB 1.3 MB/s eta 0:00:02\n",
            "   ----------------------------------- ---- 13.8/15.5 MB 1.3 MB/s eta 0:00:02\n",
            "   ----------------------------------- ---- 13.9/15.5 MB 1.3 MB/s eta 0:00:02\n",
            "   ----------------------------------- ---- 13.9/15.5 MB 1.3 MB/s eta 0:00:02\n",
            "   ----------------------------------- ---- 13.9/15.5 MB 1.3 MB/s eta 0:00:02\n",
            "   ----------------------------------- ---- 13.9/15.5 MB 1.3 MB/s eta 0:00:02\n",
            "   ------------------------------------ --- 14.0/15.5 MB 1.3 MB/s eta 0:00:02\n",
            "   ------------------------------------ --- 14.0/15.5 MB 1.3 MB/s eta 0:00:02\n",
            "   ------------------------------------ --- 14.1/15.5 MB 1.3 MB/s eta 0:00:02\n",
            "   ------------------------------------ --- 14.2/15.5 MB 1.3 MB/s eta 0:00:02\n",
            "   ------------------------------------ --- 14.2/15.5 MB 1.3 MB/s eta 0:00:02\n",
            "   ------------------------------------ --- 14.2/15.5 MB 1.3 MB/s eta 0:00:02\n",
            "   ------------------------------------ --- 14.3/15.5 MB 1.3 MB/s eta 0:00:01\n",
            "   ------------------------------------ --- 14.3/15.5 MB 1.3 MB/s eta 0:00:01\n",
            "   ------------------------------------ --- 14.3/15.5 MB 1.3 MB/s eta 0:00:01\n",
            "   ------------------------------------ --- 14.3/15.5 MB 1.3 MB/s eta 0:00:01\n",
            "   ------------------------------------- -- 14.4/15.5 MB 1.2 MB/s eta 0:00:01\n",
            "   ------------------------------------- -- 14.4/15.5 MB 1.2 MB/s eta 0:00:01\n",
            "   ------------------------------------- -- 14.4/15.5 MB 1.2 MB/s eta 0:00:01\n",
            "   ------------------------------------- -- 14.4/15.5 MB 1.2 MB/s eta 0:00:01\n",
            "   ------------------------------------- -- 14.4/15.5 MB 1.2 MB/s eta 0:00:01\n",
            "   ------------------------------------- -- 14.5/15.5 MB 1.2 MB/s eta 0:00:01\n",
            "   ------------------------------------- -- 14.5/15.5 MB 1.2 MB/s eta 0:00:01\n",
            "   ------------------------------------- -- 14.5/15.5 MB 1.2 MB/s eta 0:00:01\n",
            "   ------------------------------------- -- 14.5/15.5 MB 1.2 MB/s eta 0:00:01\n",
            "   ------------------------------------- -- 14.6/15.5 MB 1.2 MB/s eta 0:00:01\n",
            "   ------------------------------------- -- 14.6/15.5 MB 1.2 MB/s eta 0:00:01\n",
            "   ------------------------------------- -- 14.6/15.5 MB 1.2 MB/s eta 0:00:01\n",
            "   ------------------------------------- -- 14.6/15.5 MB 1.2 MB/s eta 0:00:01\n",
            "   ------------------------------------- -- 14.7/15.5 MB 1.2 MB/s eta 0:00:01\n",
            "   ------------------------------------- -- 14.7/15.5 MB 1.2 MB/s eta 0:00:01\n",
            "   ------------------------------------- -- 14.7/15.5 MB 1.2 MB/s eta 0:00:01\n",
            "   -------------------------------------- - 14.7/15.5 MB 1.2 MB/s eta 0:00:01\n",
            "   -------------------------------------- - 14.8/15.5 MB 1.2 MB/s eta 0:00:01\n",
            "   -------------------------------------- - 14.8/15.5 MB 1.2 MB/s eta 0:00:01\n",
            "   -------------------------------------- - 14.8/15.5 MB 1.2 MB/s eta 0:00:01\n",
            "   -------------------------------------- - 14.8/15.5 MB 1.2 MB/s eta 0:00:01\n",
            "   -------------------------------------- - 14.9/15.5 MB 1.1 MB/s eta 0:00:01\n",
            "   -------------------------------------- - 14.9/15.5 MB 1.1 MB/s eta 0:00:01\n",
            "   -------------------------------------- - 14.9/15.5 MB 1.1 MB/s eta 0:00:01\n",
            "   -------------------------------------- - 15.0/15.5 MB 1.1 MB/s eta 0:00:01\n",
            "   -------------------------------------- - 15.0/15.5 MB 1.1 MB/s eta 0:00:01\n",
            "   -------------------------------------- - 15.0/15.5 MB 1.1 MB/s eta 0:00:01\n",
            "   -------------------------------------- - 15.0/15.5 MB 1.1 MB/s eta 0:00:01\n",
            "   -------------------------------------- - 15.1/15.5 MB 1.1 MB/s eta 0:00:01\n",
            "   -------------------------------------- - 15.1/15.5 MB 1.1 MB/s eta 0:00:01\n",
            "   ---------------------------------------  15.1/15.5 MB 1.1 MB/s eta 0:00:01\n",
            "   ---------------------------------------  15.2/15.5 MB 1.1 MB/s eta 0:00:01\n",
            "   ---------------------------------------  15.2/15.5 MB 1.1 MB/s eta 0:00:01\n",
            "   ---------------------------------------  15.2/15.5 MB 1.1 MB/s eta 0:00:01\n",
            "   ---------------------------------------  15.2/15.5 MB 1.1 MB/s eta 0:00:01\n",
            "   ---------------------------------------  15.3/15.5 MB 1.1 MB/s eta 0:00:01\n",
            "   ---------------------------------------  15.3/15.5 MB 1.1 MB/s eta 0:00:01\n",
            "   ---------------------------------------  15.3/15.5 MB 1.1 MB/s eta 0:00:01\n",
            "   ---------------------------------------  15.4/15.5 MB 1.1 MB/s eta 0:00:01\n",
            "   ---------------------------------------  15.4/15.5 MB 1.1 MB/s eta 0:00:01\n",
            "   ---------------------------------------  15.4/15.5 MB 1.1 MB/s eta 0:00:01\n",
            "   ---------------------------------------  15.4/15.5 MB 1.1 MB/s eta 0:00:01\n",
            "   ---------------------------------------  15.4/15.5 MB 1.1 MB/s eta 0:00:01\n",
            "   ---------------------------------------  15.5/15.5 MB 1.1 MB/s eta 0:00:01\n",
            "   ---------------------------------------  15.5/15.5 MB 1.1 MB/s eta 0:00:01\n",
            "   ---------------------------------------  15.5/15.5 MB 1.1 MB/s eta 0:00:01\n",
            "   ---------------------------------------  15.5/15.5 MB 1.1 MB/s eta 0:00:01\n",
            "   ---------------------------------------  15.5/15.5 MB 1.1 MB/s eta 0:00:01\n",
            "   ---------------------------------------- 15.5/15.5 MB 1.0 MB/s eta 0:00:00\n",
            "Downloading pytz-2023.4-py2.py3-none-any.whl (506 kB)\n",
            "   ---------------------------------------- 0.0/506.5 kB ? eta -:--:--\n",
            "   -- ------------------------------------ 30.7/506.5 kB 640.0 kB/s eta 0:00:01\n",
            "   ---- ---------------------------------- 61.4/506.5 kB 656.4 kB/s eta 0:00:01\n",
            "   ------- ------------------------------- 92.2/506.5 kB 581.0 kB/s eta 0:00:01\n",
            "   --------- ---------------------------- 122.9/506.5 kB 599.1 kB/s eta 0:00:01\n",
            "   ---------- --------------------------- 143.4/506.5 kB 566.5 kB/s eta 0:00:01\n",
            "   ------------- ------------------------ 174.1/506.5 kB 581.0 kB/s eta 0:00:01\n",
            "   -------------- ----------------------- 194.6/506.5 kB 620.6 kB/s eta 0:00:01\n",
            "   --------------- ---------------------- 204.8/506.5 kB 565.6 kB/s eta 0:00:01\n",
            "   --------------- ---------------------- 204.8/506.5 kB 565.6 kB/s eta 0:00:01\n",
            "   ------------------- ------------------ 256.0/506.5 kB 582.4 kB/s eta 0:00:01\n",
            "   --------------------- ---------------- 286.7/506.5 kB 589.5 kB/s eta 0:00:01\n",
            "   --------------------- ---------------- 286.7/506.5 kB 589.5 kB/s eta 0:00:01\n",
            "   ----------------------- -------------- 307.2/506.5 kB 527.5 kB/s eta 0:00:01\n",
            "   ------------------------- ------------ 337.9/506.5 kB 537.2 kB/s eta 0:00:01\n",
            "   -------------------------- ----------- 358.4/506.5 kB 557.1 kB/s eta 0:00:01\n",
            "   ----------------------------- -------- 399.4/506.5 kB 553.5 kB/s eta 0:00:01\n",
            "   ------------------------------ ------- 409.6/506.5 kB 555.4 kB/s eta 0:00:01\n",
            "   --------------------------------- ---- 450.6/506.5 kB 563.1 kB/s eta 0:00:01\n",
            "   ---------------------------------- --- 460.8/506.5 kB 554.2 kB/s eta 0:00:01\n",
            "   -------------------------------------- 506.5/506.5 kB 567.2 kB/s eta 0:00:00\n",
            "Downloading tzdata-2023.4-py2.py3-none-any.whl (346 kB)\n",
            "   ---------------------------------------- 0.0/346.6 kB ? eta -:--:--\n",
            "   --- ----------------------------------- 30.7/346.6 kB 660.6 kB/s eta 0:00:01\n",
            "   ------ -------------------------------- 61.4/346.6 kB 825.8 kB/s eta 0:00:01\n",
            "   --------- ----------------------------- 81.9/346.6 kB 657.6 kB/s eta 0:00:01\n",
            "   ------------ ------------------------- 112.6/346.6 kB 656.4 kB/s eta 0:00:01\n",
            "   -------------- ----------------------- 133.1/346.6 kB 718.6 kB/s eta 0:00:01\n",
            "   ----------------- -------------------- 163.8/346.6 kB 656.4 kB/s eta 0:00:01\n",
            "   --------------------- ---------------- 194.6/346.6 kB 622.7 kB/s eta 0:00:01\n",
            "   ------------------------- ------------ 235.5/346.6 kB 686.8 kB/s eta 0:00:01\n",
            "   -------------------------- ----------- 245.8/346.6 kB 628.1 kB/s eta 0:00:01\n",
            "   ------------------------------ ------- 276.5/346.6 kB 609.2 kB/s eta 0:00:01\n",
            "   ---------------------------------- --- 317.4/346.6 kB 634.7 kB/s eta 0:00:01\n",
            "   -------------------------------------  337.9/346.6 kB 617.1 kB/s eta 0:00:01\n",
            "   -------------------------------------- 346.6/346.6 kB 616.0 kB/s eta 0:00:00\n",
            "Installing collected packages: pytz, tzdata, numpy, pandas\n",
            "Successfully installed numpy-1.26.3 pandas-2.2.0 pytz-2023.4 tzdata-2023.4\n",
            "Defaulting to user installation because normal site-packages is not writeable\n",
            "Requirement already satisfied: numpy in c:\\users\\lenovo\\appdata\\local\\packages\\pythonsoftwarefoundation.python.3.12_qbz5n2kfra8p0\\localcache\\local-packages\\python312\\site-packages (1.26.3)\n"
          ]
        },
        {
          "name": "stderr",
          "output_type": "stream",
          "text": [
            "C:\\Users\\Lenovo\\AppData\\Local\\Temp\\ipykernel_21704\\4120631995.py:3: DeprecationWarning: \n",
            "Pyarrow will become a required dependency of pandas in the next major release of pandas (pandas 3.0),\n",
            "(to allow more performant data types, such as the Arrow string type, and better interoperability with other libraries)\n",
            "but was not found to be installed on your system.\n",
            "If this would cause problems for you,\n",
            "please provide us feedback at https://github.com/pandas-dev/pandas/issues/54466\n",
            "        \n",
            "  import pandas as pd\n"
          ]
        }
      ],
      "source": [
        "!pip install pandas\n",
        "!pip install numpy\n",
        "import pandas as pd\n",
        "import numpy as np\n",
        "from pandas import DataFrame\n",
        "from numpy import ndarray"
      ]
    },
    {
      "cell_type": "markdown",
      "metadata": {
        "id": "e5tpEUBWtTd-"
      },
      "source": [
        "# Question and Answer Logic"
      ]
    },
    {
      "cell_type": "code",
      "execution_count": 43,
      "metadata": {
        "colab": {
          "base_uri": "https://localhost:8080/"
        },
        "id": "O8_nPbwKn0gL",
        "outputId": "3ddcd1a9-e4ac-4c91-f6dd-96c01b511ea2"
      },
      "outputs": [
        {
          "name": "stdout",
          "output_type": "stream",
          "text": [
            "Input question : this is a meri college in the voice just sample\n",
            "highest similarity 0.3076923076923077  index  31816\n",
            "Quetion : How is this reflected in the studies?\n",
            "Answer : in how their genitals react to sexual stimuli of both genders or even to non-human stimuli.\n"
          ]
        }
      ],
      "source": [
        "if 'google.colab' in str(get_ipython()):\n",
        "    dataset_path:str=\"/content/drive/MyDrive/NLP/Project/QA DataSample.csv\"\n",
        "else:\n",
        "    dataset_path:str=\"D:/University/Semester 8/NLP/Project/QA DataSample.csv\"\n",
        "dataset:DataFrame=pd.read_csv(dataset_path)\n",
        "\n",
        "def jaccard_similarity(question: str) -> float:\n",
        "    question_set: set[str] = set(question.split())\n",
        "    intersection: set[str] = query_set.intersection(question_set)\n",
        "    union: set[str] = query_set.union(question_set)\n",
        "    return len(intersection) / len(union)\n",
        "\n",
        "query_set: set[str] = set(query.split())\n",
        "\n",
        "dataset['similarity'] = dataset['question'].apply(jaccard_similarity)\n",
        "\n",
        "similarity_index=dataset['similarity'].idxmax()\n",
        "print(\"Input question :\",query)\n",
        "print(\"highest similarity\",dataset['similarity'][similarity_index],\" index \",similarity_index)\n",
        "\n",
        "similar_question=dataset['question'][similarity_index]\n",
        "answer=dataset['text'][similarity_index]\n",
        "print(\"Quetion :\",similar_question)\n",
        "print(\"Answer :\",answer)"
      ]
    },
    {
      "cell_type": "markdown",
      "metadata": {},
      "source": [
        "# Text to Speech"
      ]
    },
    {
      "cell_type": "markdown",
      "metadata": {},
      "source": [
        "### dependencies"
      ]
    },
    {
      "cell_type": "code",
      "execution_count": 49,
      "metadata": {},
      "outputs": [
        {
          "name": "stdout",
          "output_type": "stream",
          "text": [
            "Defaulting to user installation because normal site-packages is not writeable\n",
            "Requirement already satisfied: gTTS in c:\\users\\lenovo\\appdata\\local\\packages\\pythonsoftwarefoundation.python.3.12_qbz5n2kfra8p0\\localcache\\local-packages\\python312\\site-packages (2.5.1)\n",
            "Requirement already satisfied: requests<3,>=2.27 in c:\\users\\lenovo\\appdata\\local\\packages\\pythonsoftwarefoundation.python.3.12_qbz5n2kfra8p0\\localcache\\local-packages\\python312\\site-packages (from gTTS) (2.31.0)\n",
            "Requirement already satisfied: click<8.2,>=7.1 in c:\\users\\lenovo\\appdata\\local\\packages\\pythonsoftwarefoundation.python.3.12_qbz5n2kfra8p0\\localcache\\local-packages\\python312\\site-packages (from gTTS) (8.1.7)\n",
            "Requirement already satisfied: colorama in c:\\users\\lenovo\\appdata\\local\\packages\\pythonsoftwarefoundation.python.3.12_qbz5n2kfra8p0\\localcache\\local-packages\\python312\\site-packages (from click<8.2,>=7.1->gTTS) (0.4.6)\n",
            "Requirement already satisfied: charset-normalizer<4,>=2 in c:\\users\\lenovo\\appdata\\local\\packages\\pythonsoftwarefoundation.python.3.12_qbz5n2kfra8p0\\localcache\\local-packages\\python312\\site-packages (from requests<3,>=2.27->gTTS) (3.3.2)\n",
            "Requirement already satisfied: idna<4,>=2.5 in c:\\users\\lenovo\\appdata\\local\\packages\\pythonsoftwarefoundation.python.3.12_qbz5n2kfra8p0\\localcache\\local-packages\\python312\\site-packages (from requests<3,>=2.27->gTTS) (3.6)\n",
            "Requirement already satisfied: urllib3<3,>=1.21.1 in c:\\users\\lenovo\\appdata\\local\\packages\\pythonsoftwarefoundation.python.3.12_qbz5n2kfra8p0\\localcache\\local-packages\\python312\\site-packages (from requests<3,>=2.27->gTTS) (2.1.0)\n",
            "Requirement already satisfied: certifi>=2017.4.17 in c:\\users\\lenovo\\appdata\\local\\packages\\pythonsoftwarefoundation.python.3.12_qbz5n2kfra8p0\\localcache\\local-packages\\python312\\site-packages (from requests<3,>=2.27->gTTS) (2023.11.17)\n"
          ]
        }
      ],
      "source": [
        "!pip install gTTS\n",
        "from gtts import gTTS\n",
        "from IPython.display import Audio"
      ]
    },
    {
      "cell_type": "markdown",
      "metadata": {},
      "source": [
        "## Logic"
      ]
    },
    {
      "cell_type": "code",
      "execution_count": 53,
      "metadata": {},
      "outputs": [
        {
          "data": {
            "text/html": [
              "\n",
              "                <audio  controls=\"controls\" >\n",
              "                    <source src=\"data:audio/mpeg;base64,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\" type=\"audio/mpeg\" />\n",
              "                    Your browser does not support the audio element.\n",
              "                </audio>\n",
              "              "
            ],
            "text/plain": [
              "<IPython.lib.display.Audio object>"
            ]
          },
          "execution_count": 53,
          "metadata": {},
          "output_type": "execute_result"
        }
      ],
      "source": [
        "\n",
        "answerInAudio:gTTS=gTTS(text=answer,lang='en',slow=False)\n",
        "answerOutputPath=\"\"\n",
        "answerFileName=\"answer.mp3\"\n",
        "answerInAudio.save(answerOutputPath+answerFileName)\n",
        "\n",
        "Audio(answerOutputPath+answerFileName)"
      ]
    }
  ],
  "metadata": {
    "colab": {
      "provenance": []
    },
    "kernelspec": {
      "display_name": "Python 3",
      "name": "python3"
    },
    "language_info": {
      "codemirror_mode": {
        "name": "ipython",
        "version": 3
      },
      "file_extension": ".py",
      "mimetype": "text/x-python",
      "name": "python",
      "nbconvert_exporter": "python",
      "pygments_lexer": "ipython3",
      "version": "3.12.1"
    }
  },
  "nbformat": 4,
  "nbformat_minor": 0
}
